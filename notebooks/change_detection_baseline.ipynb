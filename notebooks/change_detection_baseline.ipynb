{
 "cells": [
  {
   "cell_type": "markdown",
   "metadata": {},
   "source": [
    "# Baseline Change Detection with Image Differencing\n",
    "\n",
    "We're just going to subtract the old image from the new image and threshold to create a mask from the difference."
   ]
  },
  {
   "cell_type": "code",
   "execution_count": null,
   "metadata": {},
   "outputs": [],
   "source": [
    "import os\n",
    "import numpy as np\n",
    "import pandas as pd\n",
    "\n",
    "import download\n",
    "\n",
    "import rasterio\n",
    "from rasterio.plot import show"
   ]
  },
  {
   "cell_type": "markdown",
   "metadata": {},
   "source": [
    "### Set constants"
   ]
  },
  {
   "cell_type": "code",
   "execution_count": null,
   "metadata": {},
   "outputs": [],
   "source": [
    "ITEM_TYPE = 'PSScene3Band'\n",
    "START_DATE = \"2020-06-01T00:00:00.000Z\"\n",
    "END_DATE = \"2020-07-01T00:00:00.000Z\"\n",
    "CLOUD_TOLERANCE = .01\n",
    "CLEAR_PERCENT = 95\n"
   ]
  },
  {
   "cell_type": "markdown",
   "metadata": {},
   "source": [
    "### Read CSV"
   ]
  },
  {
   "cell_type": "code",
   "execution_count": null,
   "metadata": {},
   "outputs": [],
   "source": [
    "il_df = pd.read_csv('~/notebooks/home/il_06-11-20_ind.csv')\n",
    "\n",
    "lat, lon = il_df.loc[8, ['lat', 'lon']] #using the first in the list\n",
    "coords = download.gen_box_coords(lat, lon)"
   ]
  },
  {
   "cell_type": "markdown",
   "metadata": {},
   "source": [
    "### Download Images"
   ]
  },
  {
   "cell_type": "code",
   "execution_count": null,
   "metadata": {},
   "outputs": [],
   "source": [
    "old_img = download.retrieve_planet_image(coords, 'old.tif', start_date='2019-06-01T00:00:00.000Z', end_date='2019-07-01T00:00:00.000Z', item_type=ITEM_TYPE)\n",
    "new_img = download.retrieve_planet_image(coords, 'new.tif', start_date='2020-06-01T00:00:00.000Z', end_date='2020-07-01T00:00:00.000Z', item_type=ITEM_TYPE)"
   ]
  },
  {
   "cell_type": "markdown",
   "metadata": {},
   "source": [
    "### Helpers to display images"
   ]
  },
  {
   "cell_type": "code",
   "execution_count": null,
   "metadata": {},
   "outputs": [],
   "source": [
    "def show_rgb(img_file):\n",
    "    with rasterio.open(img_file) as src:\n",
    "        r,g,b,n = src.read()\n",
    "\n",
    "    rgb = np.stack((r,g,b), axis=0)\n",
    "    show(rgb/rgb.max())\n",
    "    \n",
    "def show_gray(img_file):\n",
    "    with rasterio.open(img_file) as src:\n",
    "        g = src.read(1)\n",
    "    show(g/g.max())"
   ]
  },
  {
   "cell_type": "code",
   "execution_count": null,
   "metadata": {},
   "outputs": [],
   "source": [
    "show_rgb('old.tif')\n",
    "show_rgb('new.tif')"
   ]
  },
  {
   "cell_type": "markdown",
   "metadata": {},
   "source": [
    "### Diff Images"
   ]
  },
  {
   "cell_type": "code",
   "execution_count": null,
   "metadata": {},
   "outputs": [],
   "source": [
    "old_img = rasterio.open('old.tif')\n",
    "new_img = rasterio.open('new.tif')\n",
    "\n",
    "old_arr = old_img.read(1)\n",
    "new_arr = new_img.read(1)\n",
    "\n",
    "diff = np.absolute(new_arr - old_arr)\n",
    "\n",
    "show(diff)"
   ]
  },
  {
   "cell_type": "markdown",
   "metadata": {},
   "source": [
    "### Mask based on pixel difference threshold"
   ]
  },
  {
   "cell_type": "code",
   "execution_count": null,
   "metadata": {},
   "outputs": [],
   "source": [
    "cut = 100\n",
    "\n",
    "mask = np.copy(diff)\n",
    "mask[mask <= cut] = 0\n",
    "mask[mask > cut] = 1\n",
    "\n",
    "show(mask)"
   ]
  }
 ],
 "metadata": {
  "kernelspec": {
   "display_name": "py37_default",
   "language": "python",
   "name": "conda-env-py37_default-py"
  },
  "language_info": {
   "codemirror_mode": {
    "name": "ipython",
    "version": 3
   },
   "file_extension": ".py",
   "mimetype": "text/x-python",
   "name": "python",
   "nbconvert_exporter": "python",
   "pygments_lexer": "ipython3",
   "version": "3.7.0"
  }
 },
 "nbformat": 4,
 "nbformat_minor": 4
}
