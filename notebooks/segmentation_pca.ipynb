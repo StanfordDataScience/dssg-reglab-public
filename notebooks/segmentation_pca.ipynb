{
 "cells": [
  {
   "cell_type": "markdown",
   "metadata": {},
   "source": [
    "# Simple Building Segmentation with PCA\n",
    "Adapted from Brandon Anderson (Stanford RegLab)"
   ]
  },
  {
   "cell_type": "code",
   "execution_count": 1,
   "metadata": {},
   "outputs": [],
   "source": [
    "import glob\n",
    "import pickle\n",
    "\n",
    "import matplotlib as mpl \n",
    "import matplotlib.pyplot as plt\n",
    "import rasterio\n",
    "\n",
    "import numpy as np\n",
    "from sklearn import decomposition"
   ]
  },
  {
   "cell_type": "markdown",
   "metadata": {},
   "source": [
    "### Convert images to arrays"
   ]
  },
  {
   "cell_type": "code",
   "execution_count": 3,
   "metadata": {},
   "outputs": [
    {
     "data": {
      "text/plain": [
       "(115254, 3)"
      ]
     },
     "execution_count": 3,
     "metadata": {},
     "output_type": "execute_result"
    }
   ],
   "source": [
    "img_arrs = []\n",
    "images = []\n",
    "\n",
    "files = glob.glob('/datadrive/data/raw/planet_images_il-2020-07/*')\n",
    "for file in files:\n",
    "    with rasterio.open(file) as src:\n",
    "        b, g, r, n = src.read()\n",
    "        \n",
    "    rgb = np.stack((r,g,b), axis=-1)\n",
    "    rgb = rgb/rgb.max()    \n",
    "    images.append(rgb)\n",
    "    \n",
    "    img_arr = rgb.reshape(-1, rgb.shape[-1])\n",
    "    img_arrs.append(img_arr)\n",
    "\n",
    "img_arr.shape"
   ]
  },
  {
   "cell_type": "markdown",
   "metadata": {},
   "source": [
    "### Fit PCA"
   ]
  },
  {
   "cell_type": "code",
   "execution_count": null,
   "metadata": {},
   "outputs": [],
   "source": [
    "N_COMPONENTS = 2\n",
    "\n",
    "all_images = np.concatenate(img_arrs)\n",
    "pca = decomposition.PCA(n_components=N_COMPONENTS)\n",
    "img_pca = pca.fit_transform(all_images)"
   ]
  },
  {
   "cell_type": "markdown",
   "metadata": {},
   "source": [
    "### Perform Segmentation"
   ]
  },
  {
   "cell_type": "code",
   "execution_count": null,
   "metadata": {},
   "outputs": [],
   "source": [
    "PERCENTILE_CUT = 97\n",
    "CUT = np.percentile(img_pca.flatten(), PERCENTILE_CUT)\n",
    "\n",
    "def perform_segmentation(pca_obj, arr, shape):\n",
    "    pca_img = pca_obj.transform(arr).reshape((shape[0], shape[1], N_COMPONENTS))[:, :, 0]\n",
    "    \n",
    "    pca_img[pca_img <= CUT] = 0\n",
    "    pca_img[pca_img > CUT] = 1\n",
    "    \n",
    "    return pca_img"
   ]
  },
  {
   "cell_type": "code",
   "execution_count": null,
   "metadata": {},
   "outputs": [],
   "source": [
    "pca_masks = []\n",
    "\n",
    "for i in range(len(img_arrs)):\n",
    "    mask = perform_segmentation(pca, img_arrs[i], images[i].shape)\n",
    "    orig_img = images[i]\n",
    "    \n",
    "    plt.imshow(orig_img)\n",
    "    \n",
    "    cafo = np.zeros((orig_img.shape[0],orig_img.shape[1],4))\n",
    "    cafo[...,0] = 1.\n",
    "    cafo[...,3] = mask\n",
    "    \n",
    "    background = np.zeros((orig_img.shape[0],orig_img.shape[1],4))\n",
    "    background[...,1] = 1.\n",
    "    background[...,3] = mask != 1\n",
    "    \n",
    "    plt.imshow(cafo, alpha=.5, interpolation='none')\n",
    "    plt.imshow(background, alpha=.2, interpolation='none')\n",
    "#     plt.savefig('./segmented/' + str(i).zfill(3) + '.png', dpi=300)\n",
    "#     print('./segmented/' + str(i).zfill(3) + '.png')\n",
    "    plt.show()"
   ]
  }
 ],
 "metadata": {
  "kernelspec": {
   "display_name": "py37_default",
   "language": "python",
   "name": "conda-env-py37_default-py"
  },
  "language_info": {
   "codemirror_mode": {
    "name": "ipython",
    "version": 3
   },
   "file_extension": ".py",
   "mimetype": "text/x-python",
   "name": "python",
   "nbconvert_exporter": "python",
   "pygments_lexer": "ipython3",
   "version": "3.7.0"
  }
 },
 "nbformat": 4,
 "nbformat_minor": 4
}
