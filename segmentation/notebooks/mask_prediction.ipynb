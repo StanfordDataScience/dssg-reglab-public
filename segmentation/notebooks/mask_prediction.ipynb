{
 "cells": [
  {
   "cell_type": "markdown",
   "metadata": {},
   "source": [
    "Notebook notes: this notebook is used to take the trained model and evaluate a directory with tiff images and then save the results into a pickle file"
   ]
  },
  {
   "cell_type": "code",
   "execution_count": 22,
   "metadata": {},
   "outputs": [
    {
     "name": "stdout",
     "output_type": "stream",
     "text": [
      "The autoreload extension is already loaded. To reload it, use:\n",
      "  %reload_ext autoreload\n"
     ]
    }
   ],
   "source": [
    "%load_ext autoreload\n",
    "%autoreload 2\n",
    "import glob\n",
    "import rasterio\n",
    "import numpy as np\n",
    "import pickle\n",
    "import torch\n",
    "import re\n",
    "import sys\n",
    "sys.path.insert(0, '../models')\n",
    "from unet_model import UNet"
   ]
  },
  {
   "cell_type": "code",
   "execution_count": 8,
   "metadata": {},
   "outputs": [],
   "source": [
    "# Get directories and list of tif file names from 2020\n",
    "data_dir = \"../../../notebooks/home/data/raw/planet_images_il-2020/\"\n",
    "file_list = glob.glob(data_dir + \"*.tif\")\n",
    "segDict = {}"
   ]
  },
  {
   "cell_type": "code",
   "execution_count": 19,
   "metadata": {},
   "outputs": [
    {
     "data": {
      "text/plain": [
       "<All keys matched successfully>"
      ]
     },
     "execution_count": 19,
     "metadata": {},
     "output_type": "execute_result"
    }
   ],
   "source": [
    "# Load model\n",
    "model_pretrained = UNet(3, 2)\n",
    "model_pretrained.load_state_dict(torch.load('../../../saved_models/finished/model85.pth'))"
   ]
  },
  {
   "cell_type": "code",
   "execution_count": 15,
   "metadata": {},
   "outputs": [],
   "source": [
    "image_name = re.search(r'(?<=il-2020/)[A-z0-9\\-]+', file).group()"
   ]
  },
  {
   "cell_type": "code",
   "execution_count": 53,
   "metadata": {},
   "outputs": [],
   "source": [
    "for file in file_list:\n",
    "    image_name = re.search(r'(?<=il-2020/)[A-z0-9\\-]+', file).group()\n",
    "    segDict[image_name] = {}\n",
    "    # Load rasterio image\n",
    "    with rasterio.open(file) as src:\n",
    "        b, g, r, n = src.read()\n",
    "    rgb = np.stack((r,g,b), axis=0) \n",
    "\n",
    "    # Calculate mask and save as dictionary\n",
    "    if np.prod(rgb[0].shape) < 400*400:    \n",
    "        image_array = torch.Tensor(((rgb/rgb.max())*255).astype(np.uint8)).unsqueeze(0)\n",
    "        outputs = model_pretrained(image_array)\n",
    "        _, predictions = torch.max(outputs, 1)\n",
    "        predictions_one_hot = torch.nn.functional.one_hot(predictions).permute(0, 3, 1, 2).squeeze(0)        \n",
    "        segDict[image_name]['BACKGROUND'] = predictions_one_hot[0]\n",
    "        segDict[image_name]['CAFO Shed'] = predictions_one_hot[1]"
   ]
  },
  {
   "cell_type": "code",
   "execution_count": 57,
   "metadata": {},
   "outputs": [
    {
     "name": "stderr",
     "output_type": "stream",
     "text": [
      "/anaconda/envs/dssg/lib/python3.7/site-packages/torch/storage.py:34: FutureWarning: pickle support for Storage will be removed in 1.5. Use `torch.save` instead\n",
      "  warnings.warn(\"pickle support for Storage will be removed in 1.5. Use `torch.save` instead\", FutureWarning)\n"
     ]
    }
   ],
   "source": [
    "save_dir = \"../../../notebooks/home/data/processed/segmented_masks/planet_images_il-2020_masks.p\"\n",
    "with open(save_dir, \"wb\") as f:\n",
    "    pickle.dump(segDict, f)"
   ]
  }
 ],
 "metadata": {
  "kernelspec": {
   "display_name": "Python 3",
   "language": "python",
   "name": "python3"
  },
  "language_info": {
   "codemirror_mode": {
    "name": "ipython",
    "version": 3
   },
   "file_extension": ".py",
   "mimetype": "text/x-python",
   "name": "python",
   "nbconvert_exporter": "python",
   "pygments_lexer": "ipython3",
   "version": "3.7.7"
  }
 },
 "nbformat": 4,
 "nbformat_minor": 4
}
