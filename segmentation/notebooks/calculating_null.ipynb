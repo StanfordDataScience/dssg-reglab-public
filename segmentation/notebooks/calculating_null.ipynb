{
 "cells": [
  {
   "cell_type": "markdown",
   "metadata": {},
   "source": [
    "Notebook notes: this notebook essentially is building the null distribution based off the data that we have that are one month apart and saving it for later use"
   ]
  },
  {
   "cell_type": "code",
   "execution_count": 14,
   "metadata": {},
   "outputs": [
    {
     "name": "stdout",
     "output_type": "stream",
     "text": [
      "The autoreload extension is already loaded. To reload it, use:\n",
      "  %reload_ext autoreload\n"
     ]
    }
   ],
   "source": [
    "%load_ext autoreload\n",
    "%autoreload 2\n",
    "import glob\n",
    "import torch\n",
    "import re\n",
    "import cv2\n",
    "import numpy as np\n",
    "import rasterio\n",
    "import pickle\n",
    "import sys\n",
    "sys.path.insert(0, '../utils')\n",
    "from difference_metrics import returnPredictions, returnIou, returnCafoDiff, returnClusterDiff, returnShiftDiff\n",
    "sys.path.insert(0, '../models')\n",
    "from unet_model import UNet"
   ]
  },
  {
   "cell_type": "code",
   "execution_count": 2,
   "metadata": {},
   "outputs": [
    {
     "data": {
      "text/plain": [
       "<All keys matched successfully>"
      ]
     },
     "execution_count": 2,
     "metadata": {},
     "output_type": "execute_result"
    }
   ],
   "source": [
    "model = UNet(3, 2)\n",
    "model.load_state_dict(torch.load('../../../saved_models/finished/model8_10_ia_data.pth'))"
   ]
  },
  {
   "cell_type": "code",
   "execution_count": 3,
   "metadata": {},
   "outputs": [],
   "source": [
    "prefix_dir = \"../../../../../datadrive/data/raw/\"\n",
    "filedir07 = glob.glob(prefix_dir + 'planet_images_il-2019-07/*.tif')\n",
    "filenames = [re.search(r'(?<=planet_images_il-2019-07/)[A-z0-9\\-]+(?=_2019-07-01.tif)', file).group() for file in filedir07]\n",
    "filenames.sort()"
   ]
  },
  {
   "cell_type": "code",
   "execution_count": 4,
   "metadata": {},
   "outputs": [
    {
     "data": {
      "text/plain": [
       "229"
      ]
     },
     "execution_count": 4,
     "metadata": {},
     "output_type": "execute_result"
    }
   ],
   "source": [
    "len(filenames)"
   ]
  },
  {
   "cell_type": "code",
   "execution_count": 5,
   "metadata": {},
   "outputs": [
    {
     "data": {
      "text/plain": [
       "['planet_loc_000-date',\n",
       " 'planet_loc_001-date',\n",
       " 'planet_loc_002-date',\n",
       " 'planet_loc_003-date',\n",
       " 'planet_loc_004-date',\n",
       " 'planet_loc_005-date',\n",
       " 'planet_loc_006-date',\n",
       " 'planet_loc_007-date',\n",
       " 'planet_loc_008-date',\n",
       " 'planet_loc_009-date',\n",
       " 'planet_loc_010-date',\n",
       " 'planet_loc_011-date',\n",
       " 'planet_loc_012-date',\n",
       " 'planet_loc_013-date',\n",
       " 'planet_loc_014-date',\n",
       " 'planet_loc_015-date',\n",
       " 'planet_loc_016-date',\n",
       " 'planet_loc_017-date',\n",
       " 'planet_loc_018-date',\n",
       " 'planet_loc_019-date',\n",
       " 'planet_loc_020-date',\n",
       " 'planet_loc_021-date',\n",
       " 'planet_loc_022-date',\n",
       " 'planet_loc_023-date',\n",
       " 'planet_loc_024-date',\n",
       " 'planet_loc_025-date',\n",
       " 'planet_loc_026-date',\n",
       " 'planet_loc_027-date',\n",
       " 'planet_loc_028-date',\n",
       " 'planet_loc_029-date',\n",
       " 'planet_loc_030-date',\n",
       " 'planet_loc_031-date',\n",
       " 'planet_loc_032-date',\n",
       " 'planet_loc_033-date',\n",
       " 'planet_loc_034-date',\n",
       " 'planet_loc_035-date',\n",
       " 'planet_loc_036-date',\n",
       " 'planet_loc_037-date',\n",
       " 'planet_loc_038-date',\n",
       " 'planet_loc_039-date',\n",
       " 'planet_loc_040-date',\n",
       " 'planet_loc_041-date',\n",
       " 'planet_loc_042-date',\n",
       " 'planet_loc_043-date',\n",
       " 'planet_loc_044-date',\n",
       " 'planet_loc_045-date',\n",
       " 'planet_loc_046-date',\n",
       " 'planet_loc_047-date',\n",
       " 'planet_loc_048-date',\n",
       " 'planet_loc_049-date',\n",
       " 'planet_loc_050-date',\n",
       " 'planet_loc_051-date',\n",
       " 'planet_loc_052-date',\n",
       " 'planet_loc_053-date',\n",
       " 'planet_loc_054-date',\n",
       " 'planet_loc_055-date',\n",
       " 'planet_loc_056-date',\n",
       " 'planet_loc_057-date',\n",
       " 'planet_loc_058-date',\n",
       " 'planet_loc_059-date',\n",
       " 'planet_loc_060-date',\n",
       " 'planet_loc_061-date',\n",
       " 'planet_loc_062-date',\n",
       " 'planet_loc_063-date',\n",
       " 'planet_loc_064-date',\n",
       " 'planet_loc_065-date',\n",
       " 'planet_loc_066-date',\n",
       " 'planet_loc_067-date',\n",
       " 'planet_loc_068-date',\n",
       " 'planet_loc_069-date',\n",
       " 'planet_loc_070-date',\n",
       " 'planet_loc_071-date',\n",
       " 'planet_loc_072-date',\n",
       " 'planet_loc_073-date',\n",
       " 'planet_loc_074-date',\n",
       " 'planet_loc_075-date',\n",
       " 'planet_loc_076-date',\n",
       " 'planet_loc_077-date',\n",
       " 'planet_loc_078-date',\n",
       " 'planet_loc_079-date',\n",
       " 'planet_loc_080-date',\n",
       " 'planet_loc_081-date',\n",
       " 'planet_loc_082-date',\n",
       " 'planet_loc_083-date',\n",
       " 'planet_loc_084-date',\n",
       " 'planet_loc_085-date',\n",
       " 'planet_loc_086-date',\n",
       " 'planet_loc_087-date',\n",
       " 'planet_loc_088-date',\n",
       " 'planet_loc_089-date',\n",
       " 'planet_loc_090-date',\n",
       " 'planet_loc_091-date',\n",
       " 'planet_loc_092-date',\n",
       " 'planet_loc_093-date',\n",
       " 'planet_loc_094-date',\n",
       " 'planet_loc_095-date',\n",
       " 'planet_loc_096-date',\n",
       " 'planet_loc_097-date',\n",
       " 'planet_loc_098-date',\n",
       " 'planet_loc_099-date',\n",
       " 'planet_loc_100-date',\n",
       " 'planet_loc_101-date',\n",
       " 'planet_loc_102-date',\n",
       " 'planet_loc_103-date',\n",
       " 'planet_loc_104-date',\n",
       " 'planet_loc_105-date',\n",
       " 'planet_loc_106-date',\n",
       " 'planet_loc_107-date',\n",
       " 'planet_loc_108-date',\n",
       " 'planet_loc_109-date',\n",
       " 'planet_loc_110-date',\n",
       " 'planet_loc_111-date',\n",
       " 'planet_loc_112-date',\n",
       " 'planet_loc_113-date',\n",
       " 'planet_loc_114-date',\n",
       " 'planet_loc_115-date',\n",
       " 'planet_loc_116-date',\n",
       " 'planet_loc_117-date',\n",
       " 'planet_loc_118-date',\n",
       " 'planet_loc_119-date',\n",
       " 'planet_loc_120-date',\n",
       " 'planet_loc_121-date',\n",
       " 'planet_loc_122-date',\n",
       " 'planet_loc_123-date',\n",
       " 'planet_loc_124-date',\n",
       " 'planet_loc_125-date',\n",
       " 'planet_loc_126-date',\n",
       " 'planet_loc_127-date',\n",
       " 'planet_loc_128-date',\n",
       " 'planet_loc_129-date',\n",
       " 'planet_loc_130-date',\n",
       " 'planet_loc_131-date',\n",
       " 'planet_loc_132-date',\n",
       " 'planet_loc_133-date',\n",
       " 'planet_loc_134-date',\n",
       " 'planet_loc_135-date',\n",
       " 'planet_loc_136-date',\n",
       " 'planet_loc_137-date',\n",
       " 'planet_loc_138-date',\n",
       " 'planet_loc_139-date',\n",
       " 'planet_loc_140-date',\n",
       " 'planet_loc_141-date',\n",
       " 'planet_loc_142-date',\n",
       " 'planet_loc_143-date',\n",
       " 'planet_loc_144-date',\n",
       " 'planet_loc_145-date',\n",
       " 'planet_loc_146-date',\n",
       " 'planet_loc_147-date',\n",
       " 'planet_loc_148-date',\n",
       " 'planet_loc_149-date',\n",
       " 'planet_loc_150-date',\n",
       " 'planet_loc_151-date',\n",
       " 'planet_loc_152-date',\n",
       " 'planet_loc_153-date',\n",
       " 'planet_loc_154-date',\n",
       " 'planet_loc_155-date',\n",
       " 'planet_loc_156-date',\n",
       " 'planet_loc_157-date',\n",
       " 'planet_loc_158-date',\n",
       " 'planet_loc_159-date',\n",
       " 'planet_loc_160-date',\n",
       " 'planet_loc_161-date',\n",
       " 'planet_loc_162-date',\n",
       " 'planet_loc_163-date',\n",
       " 'planet_loc_164-date',\n",
       " 'planet_loc_165-date',\n",
       " 'planet_loc_166-date',\n",
       " 'planet_loc_167-date',\n",
       " 'planet_loc_168-date',\n",
       " 'planet_loc_169-date',\n",
       " 'planet_loc_170-date',\n",
       " 'planet_loc_171-date',\n",
       " 'planet_loc_172-date',\n",
       " 'planet_loc_173-date',\n",
       " 'planet_loc_174-date',\n",
       " 'planet_loc_175-date',\n",
       " 'planet_loc_176-date',\n",
       " 'planet_loc_177-date',\n",
       " 'planet_loc_178-date',\n",
       " 'planet_loc_179-date',\n",
       " 'planet_loc_180-date',\n",
       " 'planet_loc_181-date',\n",
       " 'planet_loc_182-date',\n",
       " 'planet_loc_183-date',\n",
       " 'planet_loc_184-date',\n",
       " 'planet_loc_185-date',\n",
       " 'planet_loc_186-date',\n",
       " 'planet_loc_187-date',\n",
       " 'planet_loc_188-date',\n",
       " 'planet_loc_189-date',\n",
       " 'planet_loc_190-date',\n",
       " 'planet_loc_191-date',\n",
       " 'planet_loc_192-date',\n",
       " 'planet_loc_193-date',\n",
       " 'planet_loc_194-date',\n",
       " 'planet_loc_195-date',\n",
       " 'planet_loc_196-date',\n",
       " 'planet_loc_197-date',\n",
       " 'planet_loc_198-date',\n",
       " 'planet_loc_199-date',\n",
       " 'planet_loc_200-date',\n",
       " 'planet_loc_201-date',\n",
       " 'planet_loc_202-date',\n",
       " 'planet_loc_203-date',\n",
       " 'planet_loc_204-date',\n",
       " 'planet_loc_205-date',\n",
       " 'planet_loc_206-date',\n",
       " 'planet_loc_207-date',\n",
       " 'planet_loc_208-date',\n",
       " 'planet_loc_209-date',\n",
       " 'planet_loc_210-date',\n",
       " 'planet_loc_211-date',\n",
       " 'planet_loc_212-date',\n",
       " 'planet_loc_213-date',\n",
       " 'planet_loc_214-date',\n",
       " 'planet_loc_215-date',\n",
       " 'planet_loc_216-date',\n",
       " 'planet_loc_217-date',\n",
       " 'planet_loc_218-date',\n",
       " 'planet_loc_219-date',\n",
       " 'planet_loc_220-date',\n",
       " 'planet_loc_221-date',\n",
       " 'planet_loc_222-date',\n",
       " 'planet_loc_223-date',\n",
       " 'planet_loc_224-date',\n",
       " 'planet_loc_225-date',\n",
       " 'planet_loc_226-date',\n",
       " 'planet_loc_227-date',\n",
       " 'planet_loc_228-date']"
      ]
     },
     "execution_count": 5,
     "metadata": {},
     "output_type": "execute_result"
    }
   ],
   "source": [
    "filenames"
   ]
  },
  {
   "cell_type": "markdown",
   "metadata": {},
   "source": [
    "This next block is removing images that are problematic as their dimensions are off (e.g. 350x160223)"
   ]
  },
  {
   "cell_type": "code",
   "execution_count": 6,
   "metadata": {},
   "outputs": [],
   "source": [
    "filenames.remove('planet_loc_001-date') \n",
    "filenames.remove('planet_loc_026-date')\n",
    "filenames.remove('planet_loc_027-date')\n",
    "filenames.remove('planet_loc_038-date')\n",
    "filenames.remove('planet_loc_052-date')\n",
    "filenames.remove('planet_loc_060-date')\n",
    "filenames.remove('planet_loc_068-date') \n",
    "filenames.remove('planet_loc_075-date')\n",
    "filenames.remove('planet_loc_086-date') \n",
    "filenames.remove('planet_loc_097-date')\n",
    "filenames.remove('planet_loc_101-date') \n",
    "filenames.remove('planet_loc_108-date')\n",
    "filenames.remove('planet_loc_120-date')\n",
    "filenames.remove('planet_loc_122-date')\n",
    "filenames.remove('planet_loc_126-date')\n",
    "filenames.remove('planet_loc_131-date')\n",
    "filenames.remove('planet_loc_142-date') \n",
    "filenames.remove('planet_loc_148-date')\n",
    "filenames.remove('planet_loc_149-date')\n",
    "filenames.remove('planet_loc_161-date')\n",
    "filenames.remove('planet_loc_171-date') \n",
    "filenames.remove('planet_loc_176-date')"
   ]
  },
  {
   "cell_type": "code",
   "execution_count": 7,
   "metadata": {},
   "outputs": [
    {
     "data": {
      "text/plain": [
       "'\\nmonth_list = [\\'07\\', \\'08\\', \\'09\\']\\nyear_list = [\\'19\\', \\'20\\']\\nerrordict = {}\\nfor year in year_list:\\n    for month in month_list:\\n        for file in filenames:\\n            with rasterio.open(prefix_dir + f\\'planet_images_il-20{year}-{month}/\\' + file + f\\'_20{year}-{month}-01\\' \".tif\") as src:\\n                b, g, r, n = src.read()\\n            rgb = np.stack((r,g,b), axis=0)\\n            if np.prod(rgb[0].shape) > 400*400:\\n                errordict[file + month + \\'/\\' + year] = file\\n'"
      ]
     },
     "execution_count": 7,
     "metadata": {},
     "output_type": "execute_result"
    }
   ],
   "source": [
    "#Checking for line/problematic images\n",
    "\"\"\"\n",
    "month_list = ['07', '08', '09']\n",
    "year_list = ['19', '20']\n",
    "errordict = {}\n",
    "for year in year_list:\n",
    "    for month in month_list:\n",
    "        for file in filenames:\n",
    "            with rasterio.open(prefix_dir + f'planet_images_il-20{year}-{month}/' + file + f'_20{year}-{month}-01' \".tif\") as src:\n",
    "                b, g, r, n = src.read()\n",
    "            rgb = np.stack((r,g,b), axis=0)\n",
    "            if np.prod(rgb[0].shape) > 400*400:\n",
    "                errordict[file + month + '/' + year] = file\n",
    "\"\"\""
   ]
  },
  {
   "cell_type": "code",
   "execution_count": 8,
   "metadata": {},
   "outputs": [
    {
     "data": {
      "text/plain": [
       "207"
      ]
     },
     "execution_count": 8,
     "metadata": {},
     "output_type": "execute_result"
    }
   ],
   "source": [
    "len(filenames)"
   ]
  },
  {
   "cell_type": "code",
   "execution_count": 15,
   "metadata": {},
   "outputs": [
    {
     "name": "stdout",
     "output_type": "stream",
     "text": [
      "planet_loc_000-date\n",
      "planet_loc_002-date\n",
      "planet_loc_003-date\n",
      "planet_loc_004-date\n",
      "planet_loc_005-date\n",
      "planet_loc_006-date\n",
      "planet_loc_007-date\n",
      "planet_loc_008-date\n",
      "planet_loc_009-date\n",
      "planet_loc_010-date\n",
      "planet_loc_011-date\n",
      "planet_loc_012-date\n",
      "planet_loc_013-date\n",
      "planet_loc_014-date\n",
      "planet_loc_015-date\n",
      "planet_loc_016-date\n",
      "planet_loc_017-date\n",
      "planet_loc_018-date\n",
      "planet_loc_019-date\n",
      "planet_loc_020-date\n",
      "planet_loc_021-date\n",
      "planet_loc_022-date\n",
      "planet_loc_023-date\n",
      "planet_loc_024-date\n",
      "planet_loc_025-date\n",
      "planet_loc_028-date\n",
      "planet_loc_029-date\n",
      "planet_loc_030-date\n",
      "planet_loc_031-date\n",
      "planet_loc_032-date\n",
      "planet_loc_033-date\n",
      "planet_loc_034-date\n",
      "planet_loc_035-date\n",
      "planet_loc_036-date\n",
      "planet_loc_037-date\n",
      "planet_loc_039-date\n",
      "planet_loc_040-date\n",
      "planet_loc_041-date\n",
      "planet_loc_042-date\n",
      "planet_loc_043-date\n",
      "planet_loc_044-date\n",
      "planet_loc_045-date\n",
      "planet_loc_046-date\n",
      "planet_loc_047-date\n",
      "planet_loc_048-date\n",
      "planet_loc_049-date\n",
      "planet_loc_050-date\n",
      "planet_loc_051-date\n",
      "planet_loc_053-date\n",
      "planet_loc_054-date\n",
      "planet_loc_055-date\n",
      "planet_loc_056-date\n",
      "planet_loc_057-date\n",
      "planet_loc_058-date\n",
      "planet_loc_059-date\n",
      "planet_loc_061-date\n",
      "planet_loc_062-date\n",
      "planet_loc_063-date\n",
      "planet_loc_064-date\n",
      "planet_loc_065-date\n",
      "planet_loc_066-date\n",
      "planet_loc_067-date\n",
      "planet_loc_069-date\n",
      "planet_loc_070-date\n",
      "planet_loc_071-date\n",
      "planet_loc_072-date\n",
      "planet_loc_073-date\n",
      "planet_loc_074-date\n",
      "planet_loc_076-date\n",
      "planet_loc_077-date\n",
      "planet_loc_078-date\n",
      "planet_loc_079-date\n",
      "planet_loc_080-date\n",
      "planet_loc_081-date\n",
      "planet_loc_082-date\n",
      "planet_loc_083-date\n",
      "planet_loc_084-date\n",
      "planet_loc_085-date\n",
      "planet_loc_087-date\n",
      "planet_loc_088-date\n",
      "planet_loc_089-date\n",
      "planet_loc_090-date\n",
      "planet_loc_091-date\n",
      "planet_loc_092-date\n",
      "planet_loc_093-date\n",
      "planet_loc_094-date\n",
      "planet_loc_095-date\n",
      "planet_loc_096-date\n",
      "planet_loc_098-date\n",
      "planet_loc_099-date\n",
      "planet_loc_100-date\n",
      "planet_loc_102-date\n",
      "planet_loc_103-date\n",
      "planet_loc_104-date\n",
      "planet_loc_105-date\n",
      "planet_loc_106-date\n",
      "planet_loc_107-date\n",
      "planet_loc_109-date\n",
      "planet_loc_110-date\n",
      "planet_loc_111-date\n",
      "planet_loc_112-date\n",
      "planet_loc_113-date\n",
      "planet_loc_114-date\n",
      "planet_loc_115-date\n",
      "planet_loc_116-date\n",
      "planet_loc_117-date\n",
      "planet_loc_118-date\n",
      "planet_loc_119-date\n",
      "planet_loc_121-date\n",
      "planet_loc_123-date\n",
      "planet_loc_124-date\n",
      "planet_loc_125-date\n",
      "planet_loc_127-date\n",
      "planet_loc_128-date\n",
      "planet_loc_129-date\n",
      "planet_loc_130-date\n",
      "planet_loc_132-date\n",
      "planet_loc_133-date\n",
      "planet_loc_134-date\n",
      "planet_loc_135-date\n",
      "planet_loc_136-date\n",
      "planet_loc_137-date\n",
      "planet_loc_138-date\n",
      "planet_loc_139-date\n",
      "planet_loc_140-date\n",
      "planet_loc_141-date\n",
      "planet_loc_143-date\n",
      "planet_loc_144-date\n",
      "planet_loc_145-date\n",
      "planet_loc_146-date\n",
      "planet_loc_147-date\n",
      "planet_loc_150-date\n",
      "planet_loc_151-date\n",
      "planet_loc_152-date\n",
      "planet_loc_153-date\n",
      "planet_loc_154-date\n",
      "planet_loc_155-date\n",
      "planet_loc_156-date\n",
      "planet_loc_157-date\n",
      "planet_loc_158-date\n",
      "planet_loc_159-date\n",
      "planet_loc_160-date\n",
      "planet_loc_162-date\n",
      "planet_loc_163-date\n",
      "planet_loc_164-date\n",
      "planet_loc_165-date\n",
      "planet_loc_166-date\n",
      "planet_loc_167-date\n",
      "planet_loc_168-date\n",
      "planet_loc_169-date\n",
      "planet_loc_170-date\n",
      "planet_loc_172-date\n",
      "planet_loc_173-date\n",
      "planet_loc_174-date\n",
      "planet_loc_175-date\n",
      "planet_loc_177-date\n",
      "planet_loc_178-date\n",
      "planet_loc_179-date\n",
      "planet_loc_180-date\n",
      "planet_loc_181-date\n",
      "planet_loc_182-date\n",
      "planet_loc_183-date\n",
      "planet_loc_184-date\n",
      "planet_loc_185-date\n",
      "planet_loc_186-date\n",
      "planet_loc_187-date\n",
      "planet_loc_188-date\n",
      "planet_loc_189-date\n",
      "planet_loc_190-date\n",
      "planet_loc_191-date\n",
      "planet_loc_192-date\n",
      "planet_loc_193-date\n",
      "planet_loc_194-date\n",
      "planet_loc_195-date\n",
      "planet_loc_196-date\n",
      "planet_loc_197-date\n",
      "planet_loc_198-date\n",
      "planet_loc_199-date\n",
      "planet_loc_200-date\n",
      "planet_loc_201-date\n",
      "planet_loc_202-date\n",
      "planet_loc_203-date\n",
      "planet_loc_204-date\n",
      "planet_loc_205-date\n",
      "planet_loc_206-date\n",
      "planet_loc_207-date\n",
      "planet_loc_208-date\n",
      "planet_loc_209-date\n",
      "planet_loc_210-date\n",
      "planet_loc_211-date\n",
      "planet_loc_212-date\n",
      "planet_loc_213-date\n",
      "planet_loc_214-date\n",
      "planet_loc_215-date\n",
      "planet_loc_216-date\n",
      "planet_loc_217-date\n",
      "planet_loc_218-date\n",
      "planet_loc_219-date\n",
      "planet_loc_220-date\n",
      "planet_loc_221-date\n",
      "planet_loc_222-date\n",
      "planet_loc_223-date\n",
      "planet_loc_224-date\n",
      "planet_loc_225-date\n",
      "planet_loc_226-date\n",
      "planet_loc_227-date\n",
      "planet_loc_228-date\n"
     ]
    }
   ],
   "source": [
    "iou_null = []\n",
    "pixel_diff = []\n",
    "cluster_diff = []\n",
    "shift_diff = []\n",
    "for file in filenames:    \n",
    "    print(file)\n",
    "    # Get predicted masks from model\n",
    "    jul19 = returnPredictions(prefix_dir + 'planet_images_il-2019-07/' + file + '_2019-07-01' \".tif\", model)    \n",
    "    aug19 = returnPredictions(prefix_dir + 'planet_images_il-2019-08/' + file + '_2019-08-01' \".tif\", model)\n",
    "    sep19 = returnPredictions(prefix_dir + 'planet_images_il-2019-09/' + file + '_2019-09-01' \".tif\", model)\n",
    "\n",
    "    jul20 = returnPredictions(prefix_dir + 'planet_images_il-2020-07/' + file + '_2020-07-01' \".tif\", model)\n",
    "    aug20 = returnPredictions(prefix_dir + 'planet_images_il-2020-08/' + file + '_2020-08-01' \".tif\", model)\n",
    "\n",
    "    # Compute difference metrics and add them to our null\n",
    "    iou_null.append(returnIou(jul19, aug19))\n",
    "    iou_null.append(returnIou(aug19, sep19))\n",
    "    iou_null.append(returnIou(jul20, aug20))    \n",
    "    \n",
    "    pixel_diff.append(returnCafoDiff(jul19, aug19))\n",
    "    pixel_diff.append(returnCafoDiff(aug19, sep19))\n",
    "    pixel_diff.append(returnCafoDiff(jul20, aug20))\n",
    "    \n",
    "    cluster_diff.append(returnClusterDiff(jul19, aug19))\n",
    "    cluster_diff.append(returnClusterDiff(aug19, sep19))\n",
    "    cluster_diff.append(returnClusterDiff(jul20, aug20))\n",
    "    \n",
    "    shift_diff.append(returnShiftDiff(jul19, aug19))\n",
    "    shift_diff.append(returnShiftDiff(aug19, sep19))\n",
    "    shift_diff.append(returnShiftDiff(jul20, aug20))"
   ]
  },
  {
   "cell_type": "code",
   "execution_count": null,
   "metadata": {},
   "outputs": [],
   "source": [
    "# Saving our null distribution to pickle files\n",
    "\n",
    "with open('../null/iou_null.p', 'wb') as f:\n",
    "    pickle.dump(iou_null, f)\n",
    "    \n",
    "with open('../null/pixel_diff_null.p', 'wb') as f:\n",
    "    pickle.dump(pixel_diff, f)\n",
    "    \n",
    "with open('../null/cluster_diff_null.p', 'wb') as f:\n",
    "    pickle.dump(cluster_diff, f)\n",
    "    \n",
    "with open('../null/shift_diff_null.p', 'wb') as f:\n",
    "    pickle.dump(shift_diff, f)"
   ]
  },
  {
   "cell_type": "markdown",
   "metadata": {},
   "source": [
    "Now we are visualizing the resulting null distributions"
   ]
  },
  {
   "cell_type": "code",
   "execution_count": 16,
   "metadata": {},
   "outputs": [],
   "source": [
    "import matplotlib.pyplot as plt\n",
    "from scipy.special import logit"
   ]
  },
  {
   "cell_type": "code",
   "execution_count": 17,
   "metadata": {},
   "outputs": [],
   "source": [
    "iou_null = np.array(iou_null)[np.array(iou_null) > 0.005]"
   ]
  },
  {
   "cell_type": "code",
   "execution_count": 20,
   "metadata": {},
   "outputs": [
    {
     "data": {
      "text/plain": [
       "Text(0.5, 1.0, 'IoU ')"
      ]
     },
     "execution_count": 20,
     "metadata": {},
     "output_type": "execute_result"
    },
    {
     "data": {
      "image/png": "[encoded data removed]",
      "text/plain": [
       "<Figure size 432x288 with 1 Axes>"
      ]
     },
     "metadata": {
      "needs_background": "light"
     },
     "output_type": "display_data"
    }
   ],
   "source": [
    "plt.hist(iou_null, bins=30)\n",
    "plt.title(\"IoU \")"
   ]
  },
  {
   "cell_type": "code",
   "execution_count": 21,
   "metadata": {},
   "outputs": [
    {
     "data": {
      "text/plain": [
       "Text(0.5, 1.0, 'IoU Arcsin')"
      ]
     },
     "execution_count": 21,
     "metadata": {},
     "output_type": "execute_result"
    },
    {
     "data": {
      "image/png": "[encoded data removed]",
      "text/plain": [
       "<Figure size 432x288 with 1 Axes>"
      ]
     },
     "metadata": {
      "needs_background": "light"
     },
     "output_type": "display_data"
    }
   ],
   "source": [
    "plt.hist(np.arcsin(iou_null), bins=30)\n",
    "plt.title(\"IoU Arcsin\")"
   ]
  },
  {
   "cell_type": "code",
   "execution_count": 22,
   "metadata": {},
   "outputs": [
    {
     "data": {
      "text/plain": [
       "Text(0.5, 1.0, 'Cafo Pixel Difference')"
      ]
     },
     "execution_count": 22,
     "metadata": {},
     "output_type": "execute_result"
    },
    {
     "data": {
      "image/png": "[encoded data removed]",
      "text/plain": [
       "<Figure size 432x288 with 1 Axes>"
      ]
     },
     "metadata": {
      "needs_background": "light"
     },
     "output_type": "display_data"
    }
   ],
   "source": [
    "plt.hist(pixel_diff, bins=30)\n",
    "plt.title(\"Cafo Pixel Difference\")"
   ]
  },
  {
   "cell_type": "code",
   "execution_count": 23,
   "metadata": {},
   "outputs": [
    {
     "data": {
      "text/plain": [
       "Text(0.5, 1.0, 'Cluster Difference')"
      ]
     },
     "execution_count": 23,
     "metadata": {},
     "output_type": "execute_result"
    },
    {
     "data": {
      "image/png": "[encoded data removed]",
      "text/plain": [
       "<Figure size 432x288 with 1 Axes>"
      ]
     },
     "metadata": {
      "needs_background": "light"
     },
     "output_type": "display_data"
    }
   ],
   "source": [
    "plt.hist(cluster_diff, bins=30)\n",
    "plt.title(\"Cluster Difference\")"
   ]
  },
  {
   "cell_type": "code",
   "execution_count": 24,
   "metadata": {},
   "outputs": [
    {
     "data": {
      "text/plain": [
       "Text(0.5, 1.0, 'Shift Difference')"
      ]
     },
     "execution_count": 24,
     "metadata": {},
     "output_type": "execute_result"
    },
    {
     "data": {
      "image/png": "[encoded data removed]",
      "text/plain": [
       "<Figure size 432x288 with 1 Axes>"
      ]
     },
     "metadata": {
      "needs_background": "light"
     },
     "output_type": "display_data"
    }
   ],
   "source": [
    "plt.hist(shift_diff, bins=20)\n",
    "plt.title(\"Shift Difference\")"
   ]
  },
  {
   "cell_type": "code",
   "execution_count": null,
   "metadata": {},
   "outputs": [],
   "source": [
    "shift_diff"
   ]
  }
 ],
 "metadata": {
  "kernelspec": {
   "display_name": "Python 3",
   "language": "python",
   "name": "python3"
  },
  "language_info": {
   "codemirror_mode": {
    "name": "ipython",
    "version": 3
   },
   "file_extension": ".py",
   "mimetype": "text/x-python",
   "name": "python",
   "nbconvert_exporter": "python",
   "pygments_lexer": "ipython3",
   "version": "3.7.7"
  }
 },
 "nbformat": 4,
 "nbformat_minor": 4
}
