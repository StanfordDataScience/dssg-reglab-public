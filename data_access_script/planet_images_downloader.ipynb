{
 "cells": [
  {
   "cell_type": "markdown",
   "metadata": {},
   "source": [
    "# Download Images from Planet\n",
    "Specify start and end date to search through, along with item type. Will loop over csv and download a n_composite image composite of clear images over that period. Can set clear percent/cloud tolerance in dl.search_api() call as well."
   ]
  },
  {
   "cell_type": "code",
   "execution_count": null,
   "metadata": {},
   "outputs": [],
   "source": [
    "import os\n",
    "import multiprocessing as mp\n",
    "import pandas as pd\n",
    "import download as dl\n",
    "import numpy as np\n",
    "\n",
    "from tqdm.notebook import tqdm\n",
    "import rasterio\n",
    "from rasterio.plot import show"
   ]
  },
  {
   "cell_type": "code",
   "execution_count": null,
   "metadata": {},
   "outputs": [],
   "source": [
    "ITEM_TYPE = 'PSScene4Band' # Either 'PSScene3Band' or 'PSScene4Band'\n",
    "START_DATE = \"2019-06-01T00:00:00.000Z\"\n",
    "END_DATE = \"2019-07-01T00:00:00.000Z\"\n",
    "\n",
    "# make sure environmental variable PL_API_KEY is set\n",
    "# conda example https://docs.conda.io/projects/conda/en/latest/user-guide/tasks/manage-environments.html#setting-environment-variables"
   ]
  },
  {
   "cell_type": "markdown",
   "metadata": {},
   "source": [
    "## Download locations with multiprocess"
   ]
  },
  {
   "cell_type": "code",
   "execution_count": null,
   "metadata": {},
   "outputs": [],
   "source": [
    "def retrieve_planet_image(coordinates, out_file, start_date, end_date, item_type, n_composites=4):\n",
    "    results = dl.search_api(coordinates, start_date, end_date, item_type)\n",
    "    if len(results) < n_composites:\n",
    "        raise Exception(f\"Less than n_composites={n_composites} results were returned for {out_file}\")\n",
    "    order_ids = results[:n_composites]\n",
    "    order_uuid = dl.create_order(coordinates, order_ids, item_type)\n",
    "    url = dl.check_order(order_uuid)\n",
    "    dl.download_image(url, out_file)\n",
    "    with rasterio.open(out_file) as src:\n",
    "        height, width = src.shape\n",
    "        if height > 400 or width > 400:\n",
    "            raise Exception(f\"Anomalous image shape with uuid: {order_uuid}, {out_file} is likely corrupted\")\n",
    "        if height < 320 or width < 320:\n",
    "            raise Exception(f\"Image incomplete, increase n_composites beyond {n_composites} for {out_file}\")"
   ]
  },
  {
   "cell_type": "code",
   "execution_count": null,
   "metadata": {},
   "outputs": [],
   "source": [
    "def wrapper(kwargs):\n",
    "    try:\n",
    "        retrieve_planet_image(**kwargs)\n",
    "\n",
    "    except Exception as e:\n",
    "        print(e)"
   ]
  },
  {
   "cell_type": "markdown",
   "metadata": {},
   "source": [
    "### Create jobs from csv"
   ]
  },
  {
   "cell_type": "code",
   "execution_count": null,
   "metadata": {},
   "outputs": [],
   "source": [
    "il_df = pd.read_csv('/datadrive/ewg_imagery_07-15-20_ind.csv')\n",
    "\n",
    "base_directory_name = './planet_images'\n",
    "\n",
    "jobs = []\n",
    "# loop over location\n",
    "for i, location in il_df.iterrows():\n",
    "    lat, lon = location.lat, location.lon\n",
    "    coords = dl.gen_box_coords(lat, lon, height=.009, width=.01184) #should be around 1km x 1km\n",
    "    \n",
    "    state = location.state # else can specify what to add for directory location label\n",
    "    directory = base_directory_name + '_' + state.lower() + '-' + END_DATE[0:7] + '/'\n",
    "    \n",
    "    if not os.path.exists(directory):\n",
    "        os.makedirs(directory)\n",
    "    \n",
    "    config = {\n",
    "        'start_date': START_DATE,\n",
    "        'end_date': END_DATE,\n",
    "        'item_type': ITEM_TYPE,\n",
    "        'out_file': directory + 'planet_loc_{0}-date_{1}.tif'.format(str(i).zfill(3), END_DATE.split('T')[0]),\n",
    "        'coordinates': coords\n",
    "    }\n",
    "    \n",
    "    if not os.path.exists(config['out_file']):\n",
    "        jobs += [config]\n",
    "        \n",
    "len(jobs)"
   ]
  },
  {
   "cell_type": "markdown",
   "metadata": {},
   "source": [
    "### Run jobs\n",
    "It will take a few minutes for the progress bar to update. For reference, downloading 229 locations with 3 composited images/location takes about and hour and a half."
   ]
  },
  {
   "cell_type": "code",
   "execution_count": null,
   "metadata": {
    "tags": []
   },
   "outputs": [],
   "source": [
    "n_proc = mp.cpu_count() - 1 # desired number of processes here\n",
    "pool = mp.Pool(processes=n_proc)\n",
    "\n",
    "for result in tqdm(pool.imap_unordered(func=wrapper, iterable=jobs), total=len(jobs)):\n",
    "    pass\n",
    "\n",
    "pool.close()\n",
    "pool.join()"
   ]
  },
  {
   "cell_type": "markdown",
   "metadata": {},
   "source": [
    "## Show Images"
   ]
  },
  {
   "cell_type": "code",
   "execution_count": null,
   "metadata": {},
   "outputs": [],
   "source": [
    "# display image helper\n",
    "def show_rgb(img_file):\n",
    "    with rasterio.open(img_file) as src:\n",
    "        b,g,r,n = src.read()\n",
    "\n",
    "    rgb = np.stack((r,g,b), axis=0)\n",
    "    show(rgb/rgb.max())"
   ]
  },
  {
   "cell_type": "code",
   "execution_count": null,
   "metadata": {},
   "outputs": [],
   "source": [
    "import glob\n",
    "fps = glob.glob(directory + '*')\n",
    "\n",
    "assert(len(fps) != 0)"
   ]
  },
  {
   "cell_type": "code",
   "execution_count": null,
   "metadata": {},
   "outputs": [],
   "source": [
    "for fp in fps:\n",
    "    show_rgb(fp)"
   ]
  },
  {
   "cell_type": "code",
   "execution_count": null,
   "metadata": {},
   "outputs": [],
   "source": []
  }
 ],
 "metadata": {
  "kernelspec": {
   "display_name": "Python 3.7 - Spark (local)",
   "language": "python",
   "name": "spark-3-python"
  },
  "language_info": {
   "codemirror_mode": {
    "name": "ipython",
    "version": 3
   },
   "file_extension": ".py",
   "mimetype": "text/x-python",
   "name": "python",
   "nbconvert_exporter": "python",
   "pygments_lexer": "ipython3",
   "version": "3.7.0"
  }
 },
 "nbformat": 4,
 "nbformat_minor": 4
}
