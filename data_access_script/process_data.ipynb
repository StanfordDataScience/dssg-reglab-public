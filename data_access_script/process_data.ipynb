{
 "cells": [
  {
   "cell_type": "code",
   "execution_count": null,
   "metadata": {},
   "outputs": [],
   "source": [
    "import os\n",
    "import pickle\n",
    "import glob\n",
    "\n",
    "import matplotlib\n",
    "import matplotlib.pyplot as plt\n",
    "matplotlib.rcParams['figure.figsize'] = (13, 8)\n",
    "matplotlib.rcParams.update({'font.size': 18})\n",
    "\n",
    "from PIL import TiffImagePlugin\n",
    "from PIL import Image\n",
    "\n",
    "import rasterio\n",
    "import aeronet.dataset as ds\n",
    "import json\n",
    "from rasterio.features import geometry_mask\n",
    "from rasterio import Affine\n"
   ]
  },
  {
   "cell_type": "markdown",
   "metadata": {},
   "source": [
    "# Resampling\n",
    "\n",
    "Extracted TIFF images (train data) are too large to fit in the memory of most computers. Therefore, we compress and resample these images to 0.1 meters per pixel resolution. The images are also tiled (256x256 blocks). More about tiling: https://www.microscopesinternational.com/support/kb/article/ngn1266.aspx"
   ]
  },
  {
   "cell_type": "code",
   "execution_count": null,
   "metadata": {
    "scrolled": true
   },
   "outputs": [],
   "source": [
    "#path of tif files\n",
    "train_dir = '../../data/interim/train'\n",
    "train_files = glob.glob(train_dir + '/*/*/*.tif', recursive=True)\n",
    "print(f\"Number of images: {len(train_files)}\")\n",
    "\n",
    "#all TIFF files JPEG compressed, tiled and resampled to 0.1 m/pixel\n",
    "#documentation -> https://gdal.org/programs/gdalwarp.html\n",
    "for f in train_files:\n",
    "    file_name = os.path.basename(f)\n",
    "    directory = os.path.dirname(f)\n",
    "    destination = os.path.join(directory, \"res-\" + file_name)\n",
    "    \n",
    "    print(f\"Resampling {file_name}\")\n",
    "    command = \"gdalwarp -co COMPRESS=JPEG -co TILED=YES -co NUM_THREADS=ALL_CPUS -r bilinear \" + \\\n",
    "    f\"-tr {0.1} -{0.1} {train_files[0]} {destination}\"\n",
    "    os.system(command)    "
   ]
  },
  {
   "cell_type": "code",
   "execution_count": null,
   "metadata": {},
   "outputs": [],
   "source": [
    "train_dir = '../../data/interim/train'\n",
    "train_files = glob.glob(train_dir + '/*/*/*.tif', recursive=True)"
   ]
  },
  {
   "cell_type": "markdown",
   "metadata": {},
   "source": [
    "# Masking\n",
    "\n",
    "For each resampled tif file create raster mask from provided geometries in .geojson file\n"
   ]
  },
  {
   "cell_type": "code",
   "execution_count": null,
   "metadata": {
    "scrolled": true
   },
   "outputs": [],
   "source": [
    "#path of resampled tif files\n",
    "train_dir = '../../data/interim/train'\n",
    "train_res_files = glob.glob(train_dir + '/*/*/res-*.tif', recursive=True)\n",
    "print(f\"Number of images: {len(train_res_files)}\")\n",
    "\n",
    "#path of geojson file for corresponding tif in the same order\n",
    "geojson_files = []\n",
    "#geojson_files = glob.glob(train_dir + '/*/*/*.geojson', recursive=True)\n",
    "for f in train_res_files:\n",
    "    parent_dir = os.path.dirname(f)\n",
    "    directory, file_name = os.path.split(parent_dir)\n",
    "    geojson_dir = file_name + \"-labels\"\n",
    "    geojson_file = file_name + \".geojson\"\n",
    "    path = os.path.join(directory, geojson_dir, geojson_file)\n",
    "    geojson_files.append(path)\n"
   ]
  },
  {
   "cell_type": "code",
   "execution_count": null,
   "metadata": {},
   "outputs": [],
   "source": [
    "#returns reprojected geosjson FeatureCollection and profile of tif\n",
    "def reproject(tif_prof, geojson):\n",
    "    #fix geojson's coord system so that it can be reprojected\n",
    "    with open(geojson, encoding=\"utf-8\") as f:\n",
    "        geojson_prof = json.load(f)\n",
    "        geojson_prof[\"crs\"] = \"EPSG:4326\"\n",
    "    with open(geojson, \"w\", encoding=\"utf-8\") as f:\n",
    "        json.dump(geojson_prof, f)\n",
    "\n",
    "    #read FeatureCollecton properties (incl. geometries) and reproject to crs as tif\n",
    "    fc = ds.FeatureCollection.read(geojson)\n",
    "    fc = fc.reproject(tif_prof[\"crs\"])\n",
    "    return fc"
   ]
  },
  {
   "cell_type": "code",
   "execution_count": null,
   "metadata": {
    "scrolled": true
   },
   "outputs": [],
   "source": [
    "#generate mask for each geojson \n",
    "for tif, geojson in zip(train_res_files, geojson_files):\n",
    "    \n",
    "    with rasterio.open(tif) as src:\n",
    "        tif_prof = src.profile\n",
    "        #print(profile)\n",
    "\n",
    "    fc = reproject(tif_prof, geojson)\n",
    "\n",
    "    #coords of polygons from geojson's FeatureCollection\n",
    "    polygons = [f.geometry for f in fc]\n",
    "\n",
    "    #masking all the polygons\n",
    "    if len(polygons) > 0:\n",
    "        mask = geometry_mask(polygons, out_shape=(tif_prof[\"height\"], tif_prof[\"width\"]), transform=tif_prof[\"transform\"], invert=True).astype('uint8')\n",
    "    else:\n",
    "        mask = np.zeros(shape=(profile[\"height\"], profile[\"width\"]), dtype='uint8')\n",
    "\n",
    "    #save masked img as tif\n",
    "    destination = os.path.join(os.path.dirname(tif), \"mask-\" + os.path.basename(tif))\n",
    "    print(\"Generating masks for \" + os.path.basename(tif))\n",
    "    profile = dict(\n",
    "        driver=\"GTiff\",\n",
    "        height=mask.shape[0],\n",
    "        width=mask.shape[1],\n",
    "        count=1,\n",
    "        crs=tif_prof[\"crs\"],\n",
    "        transform=tif_prof[\"transform\"],\n",
    "        dtype=mask.dtype,\n",
    "        NBITS=1,\n",
    "        )\n",
    "\n",
    "    with rasterio.open(destination, \"w\", **profile) as dst:\n",
    "        dst.write(mask, 1)"
   ]
  },
  {
   "cell_type": "code",
   "execution_count": null,
   "metadata": {
    "scrolled": true
   },
   "outputs": [],
   "source": [
    "#reproject coordinate system\n",
    "\n",
    "tif = train_res_files[0]\n",
    "geojson = geojson_files[0]\n",
    "#destination = os.path.join(os.path.dirname(tif), \"mask.tif\")\n",
    "destination = os.path.join(os.path.dirname(tif), \"mask-\" + os.path.basename(tif))\n",
    "#print(destination)\n",
    "\n",
    "#read tif profile\n",
    "with rasterio.open(tif) as src:\n",
    "    tif_prof = src.profile\n",
    "    print(profile)\n",
    "\n",
    "#fix geojson's coord system so that it can be reprojected\n",
    "with open(geojson, encoding=\"utf-8\") as f:\n",
    "    geojson_prof = json.load(f)\n",
    "    geojson_prof[\"crs\"] = \"EPSG:4326\"\n",
    "with open(geojson, \"w\", encoding=\"utf-8\") as f:\n",
    "    json.dump(geojson_prof, f)\n",
    "\n",
    "#read FeatureCollecton properties (incl. geometries) and reproject to crs as tif\n",
    "fc = ds.FeatureCollection.read(geojson)\n",
    "fc = fc.reproject(tif_prof[\"crs\"])"
   ]
  },
  {
   "cell_type": "markdown",
   "metadata": {},
   "source": [
    "# Slicing\n",
    "Slicing big tif files to small ones with size 1024x1024"
   ]
  },
  {
   "cell_type": "code",
   "execution_count": null,
   "metadata": {},
   "outputs": [],
   "source": [
    "#path of resampled tif files\n",
    "train_dir = '../../data/interim/train'\n",
    "tif_files = glob.glob(train_dir + '/*/*/res-*.tif', recursive=True)\n",
    "\n",
    "#path of corresponding masked tif files\n",
    "mask_files = []\n",
    "for tif in tif_files:\n",
    "    directory = os.path.dirname(tif)\n",
    "    mask_files.append(os.path.join(os.path.dirname(tif), \"mask-\" + os.path.basename(tif)))\n",
    "#print(mask_files)\n",
    "                       \n",
    "#paths for destinations\n",
    "processed_dir = '../../data/processed/train'\n",
    "processed_img_dir = os.path.join(processed_dir, \"images\")\n",
    "processed_mask_dir = os.path.join(processed_dir, \"masks\")\n",
    "\n",
    "size = (1024, 1024)"
   ]
  },
  {
   "cell_type": "code",
   "execution_count": null,
   "metadata": {},
   "outputs": [],
   "source": [
    "def sample(img, y, x, height, width):\n",
    "    \"\"\"\n",
    "    Read sample of of band to memory with specified:\n",
    "        x, y - pixel coordinates of left top corner\n",
    "        width, height - spatial dimension of sample in pixels\n",
    "    Return: raster, profile\n",
    "    \"\"\"\n",
    "    #spatial coordinates of each 1024x1024 piece\n",
    "    coord_x = img.transform.c + x * img.transform.a\n",
    "    coord_y = img.transform.f + y * img.transform.e\n",
    "\n",
    "    dst_crs = img.crs\n",
    "    dst_name = os.path.basename(img.name)\n",
    "    dst_nodata = img.nodata if img.nodata is not None else 0\n",
    "    dst_transform = Affine(img.transform.a, img.transform.b, coord_x,\n",
    "                           img.transform.d, img.transform.e, coord_y)\n",
    "\n",
    "    dst_raster = img.read(window=((y, y + height), (x, x + width)),\n",
    "                             boundless=True, fill_value=dst_nodata)\n",
    "    return dst_raster, dict(transform=dst_transform, crs=dst_crs, nodata=dst_nodata)"
   ]
  },
  {
   "cell_type": "code",
   "execution_count": null,
   "metadata": {},
   "outputs": [],
   "source": [
    "def generate_samples(img, width, height):\n",
    "    \"\"\"\n",
    "    Yield samples with defined grid\n",
    "    Args:\n",
    "        width: dimension of sample in pixels and step along `X` axis\n",
    "        height: dimension of sample in pixels and step along `Y` axis\n",
    "    Returns:\n",
    "        Generator object\n",
    "    \"\"\"\n",
    "    for x in range(0, img.width, width):\n",
    "        for y in range(0, img.height, height):\n",
    "            yield sample(img, y, x, height, width)"
   ]
  },
  {
   "cell_type": "code",
   "execution_count": null,
   "metadata": {},
   "outputs": [],
   "source": [
    "def save_processed(path, raster, **profile):\n",
    "    \"\"\"Save raster on disk\"\"\"\n",
    "    c, h, w = raster.shape\n",
    "    _profile = dict(\n",
    "        driver=\"GTiff\",\n",
    "        height=h,\n",
    "        width=w,\n",
    "        count=c,\n",
    "        dtype=raster.dtype,\n",
    "    )\n",
    "    _profile.update(profile)\n",
    "\n",
    "    with rasterio.open(path, \"w\", **_profile) as dst:\n",
    "        dst.write(raster)"
   ]
  },
  {
   "cell_type": "code",
   "execution_count": null,
   "metadata": {},
   "outputs": [],
   "source": [
    "#rasterio documentation -> https://rasterio.readthedocs.io/en/latest/quickstart.html\n",
    "for tif, mask in zip(tif_files, mask_files):\n",
    "    city = tif.split(\"/\")[-3]\n",
    "    name = tif.split(\"/\")[-2]\n",
    "    \n",
    "    i=0\n",
    "    with rasterio.open(tif) as image, rasterio.open(mask) as masked:\n",
    "        for sliced_image_data, sliced_mask_data in zip(generate_samples(image, *size), generate_samples(masked, *size)):\n",
    "            sliced_image, image_profile = sliced_image_data\n",
    "            sliced_mask, mask_profile = sliced_mask_data\n",
    "            sliced_image = sliced_image[:3] #RGB channels\n",
    "\n",
    "            if sliced_image.sum() > 100:  # prevent empty masks\n",
    "                i += 1\n",
    "                file_name = \"{}_{}_{}.tif\".format(city, name, str(i).zfill(5))\n",
    "                processed_img_path = os.path.join(processed_img_dir, file_name)\n",
    "                processed_mask_path = os.path.join(processed_mask_dir, file_name)\n",
    "\n",
    "                print(f\"Saving: {processed_img_path}\")\n",
    "                save_processed(processed_img_path, sliced_image, **image_profile)\n",
    "                print(f\"Saving: {processed_mask_path}\")\n",
    "                save_processed(processed_mask_path, sliced_mask, **mask_profile)\n",
    "\n",
    "                print()\n"
   ]
  },
  {
   "cell_type": "code",
   "execution_count": null,
   "metadata": {},
   "outputs": [],
   "source": [
    "processed_image_files = glob.glob(processed_img_dir + '/*.tif', recursive=True)\n",
    "example_image = processed_image_files[10]\n",
    "\n",
    "TiffImagePlugin.DEBUG = True\n",
    "\n",
    "with open(example_image, 'rb') as f:\n",
    "    TiffImagePlugin.TiffImageFile(f)\n",
    "\n",
    "# Plotting the Image\n",
    "img = Image.open(example_image)\n",
    "plt.imshow(img)"
   ]
  },
  {
   "cell_type": "code",
   "execution_count": null,
   "metadata": {},
   "outputs": [],
   "source": [
    "print(processed_image_files[6])\n",
    "processed_mask_files[6]"
   ]
  },
  {
   "cell_type": "code",
   "execution_count": null,
   "metadata": {
    "scrolled": true
   },
   "outputs": [],
   "source": [
    "processed_mask_files = glob.glob(processed_mask_dir + '/*.tif', recursive=True)\n",
    "example_mask = processed_mask_files[10]\n",
    "\n",
    "TiffImagePlugin.DEBUG = True\n",
    "\n",
    "with open(example_mask, 'rb') as f:\n",
    "    TiffImagePlugin.TiffImageFile(f)\n",
    "\n",
    "# Plotting the Image\n",
    "img = Image.open(example_mask)\n",
    "plt.imshow(img)"
   ]
  }
 ],
 "metadata": {
  "kernelspec": {
   "display_name": "py37_default",
   "language": "python",
   "name": "conda-env-py37_default-py"
  },
  "language_info": {
   "codemirror_mode": {
    "name": "ipython",
    "version": 3
   },
   "file_extension": ".py",
   "mimetype": "text/x-python",
   "name": "python",
   "nbconvert_exporter": "python",
   "pygments_lexer": "ipython3",
   "version": "3.7.0"
  }
 },
 "nbformat": 4,
 "nbformat_minor": 4
}
